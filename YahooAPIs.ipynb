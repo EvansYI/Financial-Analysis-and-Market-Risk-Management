{
 "cells": [
  {
   "cell_type": "code",
   "execution_count": 4,
   "metadata": {},
   "outputs": [],
   "source": [
    "import datetime as dt\n",
    "import pandas_datareader as web"
   ]
  },
  {
   "cell_type": "code",
   "execution_count": 10,
   "metadata": {},
   "outputs": [
    {
     "name": "stdout",
     "output_type": "stream",
     "text": [
      "                   High          Low         Open        Close      Volume  \\\n",
      "Date                                                                         \n",
      "2010-06-29     5.000000     3.508000     3.800000     4.778000  93831500.0   \n",
      "2010-06-30     6.084000     4.660000     5.158000     4.766000  85935500.0   \n",
      "2010-07-01     5.184000     4.054000     5.000000     4.392000  41094000.0   \n",
      "2010-07-02     4.620000     3.742000     4.600000     3.840000  25699000.0   \n",
      "2010-07-06     4.000000     3.166000     4.000000     3.222000  34334500.0   \n",
      "...                 ...          ...          ...          ...         ...   \n",
      "2021-12-27  1117.000000  1070.719971  1073.670044  1093.939941  23715300.0   \n",
      "2021-12-28  1119.000000  1078.420044  1109.489990  1088.469971  20108000.0   \n",
      "2021-12-29  1104.000000  1064.140015  1098.640015  1086.189941  18718000.0   \n",
      "2021-12-30  1095.550049  1053.150024  1061.329956  1070.339966  15680300.0   \n",
      "2021-12-31  1082.000000  1054.589966  1073.439941  1056.780029  13528700.0   \n",
      "\n",
      "              Adj Close  \n",
      "Date                     \n",
      "2010-06-29     4.778000  \n",
      "2010-06-30     4.766000  \n",
      "2010-07-01     4.392000  \n",
      "2010-07-02     3.840000  \n",
      "2010-07-06     3.222000  \n",
      "...                 ...  \n",
      "2021-12-27  1093.939941  \n",
      "2021-12-28  1088.469971  \n",
      "2021-12-29  1086.189941  \n",
      "2021-12-30  1070.339966  \n",
      "2021-12-31  1056.780029  \n",
      "\n",
      "[2899 rows x 6 columns]\n"
     ]
    }
   ],
   "source": [
    "start = dt.datetime(2000,1,1)\n",
    "end = dt.datetime(2021,12,31)\n",
    "tsla = web.DataReader('TSLA','yahoo', start=start, end=end)\n",
    "print(tsla)"
   ]
  },
  {
   "cell_type": "code",
   "execution_count": 11,
   "metadata": {},
   "outputs": [],
   "source": [
    "returns = 100*tsla['Adj Close'].pct_change().dropna()\n",
    "tsla.to_csv(r'C:/data/Tasla_Prices.csv')"
   ]
  }
 ],
 "metadata": {
  "interpreter": {
   "hash": "2636860cdc609979da52b5596c01c039f28aeab202c4270e9962fe721c76586c"
  },
  "kernelspec": {
   "display_name": "Python 3.8.8 64-bit ('base': conda)",
   "language": "python",
   "name": "python3"
  },
  "language_info": {
   "codemirror_mode": {
    "name": "ipython",
    "version": 3
   },
   "file_extension": ".py",
   "mimetype": "text/x-python",
   "name": "python",
   "nbconvert_exporter": "python",
   "pygments_lexer": "ipython3",
   "version": "3.8.8"
  },
  "orig_nbformat": 4
 },
 "nbformat": 4,
 "nbformat_minor": 2
}
