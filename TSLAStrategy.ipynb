{
 "cells": [
  {
   "cell_type": "code",
   "execution_count": 76,
   "metadata": {},
   "outputs": [],
   "source": [
    "### creat enviornment\n",
    "import datetime as dt\n",
    "import pandas_datareader as web\n",
    "import pandas as pd\n",
    "import numpy as np\n",
    "import matplotlib.pyplot as plt\n",
    "%matplotlib inline"
   ]
  },
  {
   "cell_type": "code",
   "execution_count": 77,
   "metadata": {},
   "outputs": [
    {
     "data": {
      "text/html": [
       "<div>\n",
       "<style scoped>\n",
       "    .dataframe tbody tr th:only-of-type {\n",
       "        vertical-align: middle;\n",
       "    }\n",
       "\n",
       "    .dataframe tbody tr th {\n",
       "        vertical-align: top;\n",
       "    }\n",
       "\n",
       "    .dataframe thead th {\n",
       "        text-align: right;\n",
       "    }\n",
       "</style>\n",
       "<table border=\"1\" class=\"dataframe\">\n",
       "  <thead>\n",
       "    <tr style=\"text-align: right;\">\n",
       "      <th></th>\n",
       "      <th>High</th>\n",
       "      <th>Low</th>\n",
       "      <th>Open</th>\n",
       "      <th>Close</th>\n",
       "      <th>Volume</th>\n",
       "      <th>Adj Close</th>\n",
       "    </tr>\n",
       "    <tr>\n",
       "      <th>Date</th>\n",
       "      <th></th>\n",
       "      <th></th>\n",
       "      <th></th>\n",
       "      <th></th>\n",
       "      <th></th>\n",
       "      <th></th>\n",
       "    </tr>\n",
       "  </thead>\n",
       "  <tbody>\n",
       "    <tr>\n",
       "      <th>2010-06-29</th>\n",
       "      <td>5.000</td>\n",
       "      <td>3.508</td>\n",
       "      <td>3.800</td>\n",
       "      <td>4.778</td>\n",
       "      <td>93831500.0</td>\n",
       "      <td>4.778</td>\n",
       "    </tr>\n",
       "    <tr>\n",
       "      <th>2010-06-30</th>\n",
       "      <td>6.084</td>\n",
       "      <td>4.660</td>\n",
       "      <td>5.158</td>\n",
       "      <td>4.766</td>\n",
       "      <td>85935500.0</td>\n",
       "      <td>4.766</td>\n",
       "    </tr>\n",
       "    <tr>\n",
       "      <th>2010-07-01</th>\n",
       "      <td>5.184</td>\n",
       "      <td>4.054</td>\n",
       "      <td>5.000</td>\n",
       "      <td>4.392</td>\n",
       "      <td>41094000.0</td>\n",
       "      <td>4.392</td>\n",
       "    </tr>\n",
       "    <tr>\n",
       "      <th>2010-07-02</th>\n",
       "      <td>4.620</td>\n",
       "      <td>3.742</td>\n",
       "      <td>4.600</td>\n",
       "      <td>3.840</td>\n",
       "      <td>25699000.0</td>\n",
       "      <td>3.840</td>\n",
       "    </tr>\n",
       "    <tr>\n",
       "      <th>2010-07-06</th>\n",
       "      <td>4.000</td>\n",
       "      <td>3.166</td>\n",
       "      <td>4.000</td>\n",
       "      <td>3.222</td>\n",
       "      <td>34334500.0</td>\n",
       "      <td>3.222</td>\n",
       "    </tr>\n",
       "  </tbody>\n",
       "</table>\n",
       "</div>"
      ],
      "text/plain": [
       "             High    Low   Open  Close      Volume  Adj Close\n",
       "Date                                                         \n",
       "2010-06-29  5.000  3.508  3.800  4.778  93831500.0      4.778\n",
       "2010-06-30  6.084  4.660  5.158  4.766  85935500.0      4.766\n",
       "2010-07-01  5.184  4.054  5.000  4.392  41094000.0      4.392\n",
       "2010-07-02  4.620  3.742  4.600  3.840  25699000.0      3.840\n",
       "2010-07-06  4.000  3.166  4.000  3.222  34334500.0      3.222"
      ]
     },
     "execution_count": 77,
     "metadata": {},
     "output_type": "execute_result"
    }
   ],
   "source": [
    "### Download Data from Yahoo Finance API and save it as csv file\n",
    "start = dt.datetime(2000,1,1)\n",
    "end = dt.datetime(2021,12,31)\n",
    "tsla = web.DataReader('TSLA','yahoo', start=start, end=end)\n",
    "tsla.to_csv(r'C:/data/Tasla_Prices.csv')\n",
    "tsla.head()"
   ]
  },
  {
   "cell_type": "code",
   "execution_count": 78,
   "metadata": {},
   "outputs": [
    {
     "data": {
      "text/html": [
       "<div>\n",
       "<style scoped>\n",
       "    .dataframe tbody tr th:only-of-type {\n",
       "        vertical-align: middle;\n",
       "    }\n",
       "\n",
       "    .dataframe tbody tr th {\n",
       "        vertical-align: top;\n",
       "    }\n",
       "\n",
       "    .dataframe thead th {\n",
       "        text-align: right;\n",
       "    }\n",
       "</style>\n",
       "<table border=\"1\" class=\"dataframe\">\n",
       "  <thead>\n",
       "    <tr style=\"text-align: right;\">\n",
       "      <th></th>\n",
       "      <th>Date</th>\n",
       "      <th>High</th>\n",
       "      <th>Low</th>\n",
       "      <th>Open</th>\n",
       "      <th>Close</th>\n",
       "      <th>Volume</th>\n",
       "      <th>Adj Close</th>\n",
       "    </tr>\n",
       "  </thead>\n",
       "  <tbody>\n",
       "    <tr>\n",
       "      <th>2894</th>\n",
       "      <td>2021-12-27</td>\n",
       "      <td>1117.000000</td>\n",
       "      <td>1070.719971</td>\n",
       "      <td>1073.670044</td>\n",
       "      <td>1093.939941</td>\n",
       "      <td>23715300.0</td>\n",
       "      <td>1093.939941</td>\n",
       "    </tr>\n",
       "    <tr>\n",
       "      <th>2895</th>\n",
       "      <td>2021-12-28</td>\n",
       "      <td>1119.000000</td>\n",
       "      <td>1078.420044</td>\n",
       "      <td>1109.489990</td>\n",
       "      <td>1088.469971</td>\n",
       "      <td>20108000.0</td>\n",
       "      <td>1088.469971</td>\n",
       "    </tr>\n",
       "    <tr>\n",
       "      <th>2896</th>\n",
       "      <td>2021-12-29</td>\n",
       "      <td>1104.000000</td>\n",
       "      <td>1064.140015</td>\n",
       "      <td>1098.640015</td>\n",
       "      <td>1086.189941</td>\n",
       "      <td>18718000.0</td>\n",
       "      <td>1086.189941</td>\n",
       "    </tr>\n",
       "    <tr>\n",
       "      <th>2897</th>\n",
       "      <td>2021-12-30</td>\n",
       "      <td>1095.550049</td>\n",
       "      <td>1053.150024</td>\n",
       "      <td>1061.329956</td>\n",
       "      <td>1070.339966</td>\n",
       "      <td>15680300.0</td>\n",
       "      <td>1070.339966</td>\n",
       "    </tr>\n",
       "    <tr>\n",
       "      <th>2898</th>\n",
       "      <td>2021-12-31</td>\n",
       "      <td>1082.000000</td>\n",
       "      <td>1054.589966</td>\n",
       "      <td>1073.439941</td>\n",
       "      <td>1056.780029</td>\n",
       "      <td>13528700.0</td>\n",
       "      <td>1056.780029</td>\n",
       "    </tr>\n",
       "  </tbody>\n",
       "</table>\n",
       "</div>"
      ],
      "text/plain": [
       "            Date         High          Low         Open        Close  \\\n",
       "2894  2021-12-27  1117.000000  1070.719971  1073.670044  1093.939941   \n",
       "2895  2021-12-28  1119.000000  1078.420044  1109.489990  1088.469971   \n",
       "2896  2021-12-29  1104.000000  1064.140015  1098.640015  1086.189941   \n",
       "2897  2021-12-30  1095.550049  1053.150024  1061.329956  1070.339966   \n",
       "2898  2021-12-31  1082.000000  1054.589966  1073.439941  1056.780029   \n",
       "\n",
       "          Volume    Adj Close  \n",
       "2894  23715300.0  1093.939941  \n",
       "2895  20108000.0  1088.469971  \n",
       "2896  18718000.0  1086.189941  \n",
       "2897  15680300.0  1070.339966  \n",
       "2898  13528700.0  1056.780029  "
      ]
     },
     "execution_count": 78,
     "metadata": {},
     "output_type": "execute_result"
    }
   ],
   "source": [
    "### import Data\n",
    "tsla = pd.read_csv('C:/data/Tasla_Prices.csv')\n",
    "tsla.tail()\n"
   ]
  },
  {
   "cell_type": "code",
   "execution_count": 79,
   "metadata": {},
   "outputs": [
    {
     "data": {
      "text/html": [
       "<div>\n",
       "<style scoped>\n",
       "    .dataframe tbody tr th:only-of-type {\n",
       "        vertical-align: middle;\n",
       "    }\n",
       "\n",
       "    .dataframe tbody tr th {\n",
       "        vertical-align: top;\n",
       "    }\n",
       "\n",
       "    .dataframe thead th {\n",
       "        text-align: right;\n",
       "    }\n",
       "</style>\n",
       "<table border=\"1\" class=\"dataframe\">\n",
       "  <thead>\n",
       "    <tr style=\"text-align: right;\">\n",
       "      <th></th>\n",
       "      <th>High</th>\n",
       "      <th>Low</th>\n",
       "      <th>Open</th>\n",
       "      <th>Close</th>\n",
       "      <th>Volume</th>\n",
       "      <th>Adj Close</th>\n",
       "    </tr>\n",
       "  </thead>\n",
       "  <tbody>\n",
       "    <tr>\n",
       "      <th>count</th>\n",
       "      <td>2899.000000</td>\n",
       "      <td>2899.000000</td>\n",
       "      <td>2899.000000</td>\n",
       "      <td>2899.000000</td>\n",
       "      <td>2.899000e+03</td>\n",
       "      <td>2899.000000</td>\n",
       "    </tr>\n",
       "    <tr>\n",
       "      <th>mean</th>\n",
       "      <td>125.882152</td>\n",
       "      <td>120.492565</td>\n",
       "      <td>123.262719</td>\n",
       "      <td>123.360381</td>\n",
       "      <td>3.139069e+07</td>\n",
       "      <td>123.360381</td>\n",
       "    </tr>\n",
       "    <tr>\n",
       "      <th>std</th>\n",
       "      <td>231.207664</td>\n",
       "      <td>220.999259</td>\n",
       "      <td>226.272890</td>\n",
       "      <td>226.491649</td>\n",
       "      <td>2.823235e+07</td>\n",
       "      <td>226.491649</td>\n",
       "    </tr>\n",
       "    <tr>\n",
       "      <th>min</th>\n",
       "      <td>3.326000</td>\n",
       "      <td>2.996000</td>\n",
       "      <td>3.228000</td>\n",
       "      <td>3.160000</td>\n",
       "      <td>5.925000e+05</td>\n",
       "      <td>3.160000</td>\n",
       "    </tr>\n",
       "    <tr>\n",
       "      <th>25%</th>\n",
       "      <td>18.094999</td>\n",
       "      <td>16.420000</td>\n",
       "      <td>17.118000</td>\n",
       "      <td>17.483000</td>\n",
       "      <td>1.284450e+07</td>\n",
       "      <td>17.483000</td>\n",
       "    </tr>\n",
       "    <tr>\n",
       "      <th>50%</th>\n",
       "      <td>46.956001</td>\n",
       "      <td>45.422001</td>\n",
       "      <td>46.144001</td>\n",
       "      <td>46.122002</td>\n",
       "      <td>2.482750e+07</td>\n",
       "      <td>46.122002</td>\n",
       "    </tr>\n",
       "    <tr>\n",
       "      <th>75%</th>\n",
       "      <td>67.971001</td>\n",
       "      <td>65.465000</td>\n",
       "      <td>66.691002</td>\n",
       "      <td>66.784000</td>\n",
       "      <td>3.999685e+07</td>\n",
       "      <td>66.784000</td>\n",
       "    </tr>\n",
       "    <tr>\n",
       "      <th>max</th>\n",
       "      <td>1243.489990</td>\n",
       "      <td>1217.000000</td>\n",
       "      <td>1234.410034</td>\n",
       "      <td>1229.910034</td>\n",
       "      <td>3.046940e+08</td>\n",
       "      <td>1229.910034</td>\n",
       "    </tr>\n",
       "  </tbody>\n",
       "</table>\n",
       "</div>"
      ],
      "text/plain": [
       "              High          Low         Open        Close        Volume  \\\n",
       "count  2899.000000  2899.000000  2899.000000  2899.000000  2.899000e+03   \n",
       "mean    125.882152   120.492565   123.262719   123.360381  3.139069e+07   \n",
       "std     231.207664   220.999259   226.272890   226.491649  2.823235e+07   \n",
       "min       3.326000     2.996000     3.228000     3.160000  5.925000e+05   \n",
       "25%      18.094999    16.420000    17.118000    17.483000  1.284450e+07   \n",
       "50%      46.956001    45.422001    46.144001    46.122002  2.482750e+07   \n",
       "75%      67.971001    65.465000    66.691002    66.784000  3.999685e+07   \n",
       "max    1243.489990  1217.000000  1234.410034  1229.910034  3.046940e+08   \n",
       "\n",
       "         Adj Close  \n",
       "count  2899.000000  \n",
       "mean    123.360381  \n",
       "std     226.491649  \n",
       "min       3.160000  \n",
       "25%      17.483000  \n",
       "50%      46.122002  \n",
       "75%      66.784000  \n",
       "max    1229.910034  "
      ]
     },
     "execution_count": 79,
     "metadata": {},
     "output_type": "execute_result"
    }
   ],
   "source": [
    "### Summary Stats\n",
    "tsla.describe()"
   ]
  },
  {
   "cell_type": "code",
   "execution_count": 80,
   "metadata": {},
   "outputs": [
    {
     "data": {
      "image/png": "[encoded data removed]",
      "text/plain": [
       "<Figure size 720x576 with 1 Axes>"
      ]
     },
     "metadata": {
      "needs_background": "light"
     },
     "output_type": "display_data"
    }
   ],
   "source": [
    "### Plotting Closing Prices\n",
    "plt.figure(figsize=(10, 8))\n",
    "tsla['Adj Close'].plot()\n",
    "plt.show()"
   ]
  },
  {
   "cell_type": "code",
   "execution_count": 81,
   "metadata": {},
   "outputs": [
    {
     "name": "stdout",
     "output_type": "stream",
     "text": [
      "0       0\n",
      "1       0\n",
      "2       0\n",
      "3       0\n",
      "4       0\n",
      "       ..\n",
      "2894    0\n",
      "2895    0\n",
      "2896    0\n",
      "2897    0\n",
      "2898    0\n",
      "Name: Direction, Length: 2899, dtype: int64\n"
     ]
    }
   ],
   "source": [
    "### Generate Price difference and Directions for Stock Prices\n",
    "tsla['PriceDiff'] = tsla['Adj Close'].shift(-1) - tsla['Adj Close']\n",
    "tsla['Direction'] = [1 if tsla['PriceDiff'].loc[ei] > 0 else 0 for ei in tsla.index ]\n",
    "print(tsla['Direction'])"
   ]
  },
  {
   "cell_type": "code",
   "execution_count": 82,
   "metadata": {},
   "outputs": [
    {
     "data": {
      "image/png": "[encoded data removed]",
      "text/plain": [
       "<Figure size 720x576 with 1 Axes>"
      ]
     },
     "metadata": {
      "needs_background": "light"
     },
     "output_type": "display_data"
    }
   ],
   "source": [
    "### Creat a new column in DataFrame using Rolling to calculate Moving Average\n",
    "tsla['MA30'] = tsla['Adj Close'].rolling(30).mean()\n",
    "tsla['MA90'] = tsla['Adj Close'].rolling(90).mean()\n",
    "plt.figure(figsize=(10, 8))\n",
    "tsla['MA30'].iloc[1:2898].plot(label='MA30') #Fast Signal\n",
    "tsla['MA90'].iloc[1:2898].plot(label='MA90') #Slow Signal\n",
    "tsla['Adj Close'].iloc[1:2898].plot(label='Adj Close') \n",
    "plt.legend()\n",
    "plt.show()"
   ]
  },
  {
   "cell_type": "code",
   "execution_count": 83,
   "metadata": {},
   "outputs": [],
   "source": [
    "###Simple Strategy:Long stock if Fast Signal > Slow Signal\n",
    "\n",
    "#Add a new column \"Shares\", if fast>slow, denote as 1 (long one share of stock), otherwise, denote as 0 (do nothing)\n",
    "tsla['Shares'] = [1 if tsla.loc[ei, 'MA30']>tsla.loc[ei, 'MA90'] else 0 for ei in tsla.index]\n",
    "\n",
    "#Add a new column \"Profit\" using List Comprehension, for any rows in data, if Shares=1, the profit is calculated as the close price of \n",
    "#tomorrow - the close price of today. Otherwise the profit is 0.\n",
    "tsla['Close1'] = tsla['Adj Close'].shift(-1)\n",
    "tsla['Profit'] = [tsla.loc[ei, 'Close1'] - tsla.loc[ei, 'Adj Close'] if tsla.loc[ei, 'Shares']==1 else 0 for ei in tsla.index]\n",
    "\n"
   ]
  },
  {
   "cell_type": "code",
   "execution_count": 84,
   "metadata": {},
   "outputs": [
    {
     "data": {
      "text/plain": [
       "<matplotlib.lines.Line2D at 0x1ca90cd1ca0>"
      ]
     },
     "execution_count": 84,
     "metadata": {},
     "output_type": "execute_result"
    },
    {
     "data": {
      "image/png": "[encoded data removed]",
      "text/plain": [
       "<Figure size 432x288 with 1 Axes>"
      ]
     },
     "metadata": {
      "needs_background": "light"
     },
     "output_type": "display_data"
    }
   ],
   "source": [
    "#Plot a graph to show the Profit/Loss\n",
    "tsla['Profit'].plot()\n",
    "plt.axhline(y=0, color='red')"
   ]
  },
  {
   "cell_type": "code",
   "execution_count": 85,
   "metadata": {},
   "outputs": [
    {
     "data": {
      "text/html": [
       "<div>\n",
       "<style scoped>\n",
       "    .dataframe tbody tr th:only-of-type {\n",
       "        vertical-align: middle;\n",
       "    }\n",
       "\n",
       "    .dataframe tbody tr th {\n",
       "        vertical-align: top;\n",
       "    }\n",
       "\n",
       "    .dataframe thead th {\n",
       "        text-align: right;\n",
       "    }\n",
       "</style>\n",
       "<table border=\"1\" class=\"dataframe\">\n",
       "  <thead>\n",
       "    <tr style=\"text-align: right;\">\n",
       "      <th></th>\n",
       "      <th>Date</th>\n",
       "      <th>High</th>\n",
       "      <th>Low</th>\n",
       "      <th>Open</th>\n",
       "      <th>Close</th>\n",
       "      <th>Volume</th>\n",
       "      <th>Adj Close</th>\n",
       "      <th>PriceDiff</th>\n",
       "      <th>Direction</th>\n",
       "      <th>MA30</th>\n",
       "      <th>MA90</th>\n",
       "      <th>Shares</th>\n",
       "      <th>Close1</th>\n",
       "      <th>Profit</th>\n",
       "      <th>Cumulative Earnings</th>\n",
       "    </tr>\n",
       "  </thead>\n",
       "  <tbody>\n",
       "    <tr>\n",
       "      <th>2894</th>\n",
       "      <td>2021-12-27</td>\n",
       "      <td>1117.000000</td>\n",
       "      <td>1070.719971</td>\n",
       "      <td>1073.670044</td>\n",
       "      <td>1093.939941</td>\n",
       "      <td>23715300.0</td>\n",
       "      <td>1093.939941</td>\n",
       "      <td>-5.469971</td>\n",
       "      <td>0</td>\n",
       "      <td>1042.778668</td>\n",
       "      <td>914.282998</td>\n",
       "      <td>1</td>\n",
       "      <td>1088.469971</td>\n",
       "      <td>-5.469971</td>\n",
       "      <td>1003.893938</td>\n",
       "    </tr>\n",
       "    <tr>\n",
       "      <th>2895</th>\n",
       "      <td>2021-12-28</td>\n",
       "      <td>1119.000000</td>\n",
       "      <td>1078.420044</td>\n",
       "      <td>1109.489990</td>\n",
       "      <td>1088.469971</td>\n",
       "      <td>20108000.0</td>\n",
       "      <td>1088.469971</td>\n",
       "      <td>-2.280029</td>\n",
       "      <td>0</td>\n",
       "      <td>1044.613666</td>\n",
       "      <td>918.894109</td>\n",
       "      <td>1</td>\n",
       "      <td>1086.189941</td>\n",
       "      <td>-2.280029</td>\n",
       "      <td>1001.613908</td>\n",
       "    </tr>\n",
       "    <tr>\n",
       "      <th>2896</th>\n",
       "      <td>2021-12-29</td>\n",
       "      <td>1104.000000</td>\n",
       "      <td>1064.140015</td>\n",
       "      <td>1098.640015</td>\n",
       "      <td>1086.189941</td>\n",
       "      <td>18718000.0</td>\n",
       "      <td>1086.189941</td>\n",
       "      <td>-15.849976</td>\n",
       "      <td>0</td>\n",
       "      <td>1047.040330</td>\n",
       "      <td>923.404441</td>\n",
       "      <td>1</td>\n",
       "      <td>1070.339966</td>\n",
       "      <td>-15.849976</td>\n",
       "      <td>985.763933</td>\n",
       "    </tr>\n",
       "    <tr>\n",
       "      <th>2897</th>\n",
       "      <td>2021-12-30</td>\n",
       "      <td>1095.550049</td>\n",
       "      <td>1053.150024</td>\n",
       "      <td>1061.329956</td>\n",
       "      <td>1070.339966</td>\n",
       "      <td>15680300.0</td>\n",
       "      <td>1070.339966</td>\n",
       "      <td>-13.559937</td>\n",
       "      <td>0</td>\n",
       "      <td>1047.560663</td>\n",
       "      <td>927.449330</td>\n",
       "      <td>1</td>\n",
       "      <td>1056.780029</td>\n",
       "      <td>-13.559937</td>\n",
       "      <td>972.203996</td>\n",
       "    </tr>\n",
       "    <tr>\n",
       "      <th>2898</th>\n",
       "      <td>2021-12-31</td>\n",
       "      <td>1082.000000</td>\n",
       "      <td>1054.589966</td>\n",
       "      <td>1073.439941</td>\n",
       "      <td>1056.780029</td>\n",
       "      <td>13528700.0</td>\n",
       "      <td>1056.780029</td>\n",
       "      <td>NaN</td>\n",
       "      <td>0</td>\n",
       "      <td>1046.486330</td>\n",
       "      <td>931.319219</td>\n",
       "      <td>1</td>\n",
       "      <td>NaN</td>\n",
       "      <td>NaN</td>\n",
       "      <td>NaN</td>\n",
       "    </tr>\n",
       "  </tbody>\n",
       "</table>\n",
       "</div>"
      ],
      "text/plain": [
       "            Date         High          Low         Open        Close  \\\n",
       "2894  2021-12-27  1117.000000  1070.719971  1073.670044  1093.939941   \n",
       "2895  2021-12-28  1119.000000  1078.420044  1109.489990  1088.469971   \n",
       "2896  2021-12-29  1104.000000  1064.140015  1098.640015  1086.189941   \n",
       "2897  2021-12-30  1095.550049  1053.150024  1061.329956  1070.339966   \n",
       "2898  2021-12-31  1082.000000  1054.589966  1073.439941  1056.780029   \n",
       "\n",
       "          Volume    Adj Close  PriceDiff  Direction         MA30        MA90  \\\n",
       "2894  23715300.0  1093.939941  -5.469971          0  1042.778668  914.282998   \n",
       "2895  20108000.0  1088.469971  -2.280029          0  1044.613666  918.894109   \n",
       "2896  18718000.0  1086.189941 -15.849976          0  1047.040330  923.404441   \n",
       "2897  15680300.0  1070.339966 -13.559937          0  1047.560663  927.449330   \n",
       "2898  13528700.0  1056.780029        NaN          0  1046.486330  931.319219   \n",
       "\n",
       "      Shares       Close1     Profit  Cumulative Earnings  \n",
       "2894       1  1088.469971  -5.469971          1003.893938  \n",
       "2895       1  1086.189941  -2.280029          1001.613908  \n",
       "2896       1  1070.339966 -15.849976           985.763933  \n",
       "2897       1  1056.780029 -13.559937           972.203996  \n",
       "2898       1          NaN        NaN                  NaN  "
      ]
     },
     "execution_count": 85,
     "metadata": {},
     "output_type": "execute_result"
    }
   ],
   "source": [
    "#Use .cumsum() to calculate the accumulated wealth over the period\n",
    "tsla['Cumulative Earnings'] = tsla['Profit'].cumsum()\n",
    "tsla.tail()"
   ]
  },
  {
   "cell_type": "code",
   "execution_count": 86,
   "metadata": {},
   "outputs": [
    {
     "data": {
      "text/plain": [
       "Text(0.5, 1.0, 'Total money you win is 972.203996181488')"
      ]
     },
     "execution_count": 86,
     "metadata": {},
     "output_type": "execute_result"
    },
    {
     "data": {
      "image/png": "[encoded data removed]",
      "text/plain": [
       "<Figure size 432x288 with 1 Axes>"
      ]
     },
     "metadata": {
      "needs_background": "light"
     },
     "output_type": "display_data"
    }
   ],
   "source": [
    "#plot the wealth to show the growth of profit over the period\n",
    "tsla['Cumulative Earnings'].plot()\n",
    "plt.title('Total money you win is {}'.format(tsla.loc[tsla.index[-2], 'Cumulative Earnings']))"
   ]
  },
  {
   "cell_type": "code",
   "execution_count": 87,
   "metadata": {},
   "outputs": [],
   "source": [
    "tsla.to_csv(r'C:/data/Tasla_Strategy.csv')"
   ]
  }
 ],
 "metadata": {
  "interpreter": {
   "hash": "2636860cdc609979da52b5596c01c039f28aeab202c4270e9962fe721c76586c"
  },
  "kernelspec": {
   "display_name": "Python 3.8.8 64-bit ('base': conda)",
   "language": "python",
   "name": "python3"
  },
  "language_info": {
   "codemirror_mode": {
    "name": "ipython",
    "version": 3
   },
   "file_extension": ".py",
   "mimetype": "text/x-python",
   "name": "python",
   "nbconvert_exporter": "python",
   "pygments_lexer": "ipython3",
   "version": "3.8.8"
  },
  "orig_nbformat": 4
 },
 "nbformat": 4,
 "nbformat_minor": 2
}
